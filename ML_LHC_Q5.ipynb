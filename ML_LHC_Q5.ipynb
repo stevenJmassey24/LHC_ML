{
  "nbformat": 4,
  "nbformat_minor": 0,
  "metadata": {
    "colab": {
      "name": "ML_LHC_Q5.ipynb",
      "provenance": [],
      "collapsed_sections": []
    },
    "kernelspec": {
      "name": "python3",
      "display_name": "Python 3"
    },
    "language_info": {
      "name": "python"
    }
  },
  "cells": [
    {
      "cell_type": "code",
      "execution_count": null,
      "metadata": {
        "id": "jwqPVrgHFhNb"
      },
      "outputs": [],
      "source": [
        "#importing basic libraries\n",
        "import numpy as np\n",
        "import pandas as pd\n",
        "import matplotlib.pyplot as plt\n",
        "from datetime import datetime, timedelta\n",
        "from matplotlib.dates import DateFormatter\n",
        "import matplotlib.dates as mdates"
      ]
    },
    {
      "cell_type": "code",
      "source": [
        "from google.colab import drive"
      ],
      "metadata": {
        "id": "LzQwGDfRFpbJ"
      },
      "execution_count": null,
      "outputs": []
    },
    {
      "cell_type": "code",
      "source": [
        "drive.mount('/content/drive/')"
      ],
      "metadata": {
        "colab": {
          "base_uri": "https://localhost:8080/"
        },
        "id": "dkUrsNxrFzsU",
        "outputId": "a4adfa03-09e8-4f53-bfc9-6c8a79e84084"
      },
      "execution_count": null,
      "outputs": [
        {
          "output_type": "stream",
          "name": "stdout",
          "text": [
            "Mounted at /content/drive/\n"
          ]
        }
      ]
    },
    {
      "cell_type": "code",
      "source": [
        "cd /content/drive/\"MyDrive/\""
      ],
      "metadata": {
        "colab": {
          "base_uri": "https://localhost:8080/"
        },
        "id": "5VFwHNTLF2dY",
        "outputId": "1d3745a7-a1db-4983-ab9b-5acccd08ee9f"
      },
      "execution_count": null,
      "outputs": [
        {
          "output_type": "stream",
          "name": "stdout",
          "text": [
            "/content/drive/MyDrive\n"
          ]
        }
      ]
    },
    {
      "cell_type": "code",
      "source": [
        "#!unzip gdrive/My\\ Drive/Colab Notebooks/DatasetLHC/Arjun_Assignment_data-20220427T165022Z-002.zip\n"
      ],
      "metadata": {
        "colab": {
          "base_uri": "https://localhost:8080/"
        },
        "id": "0zUQxs1KF9XA",
        "outputId": "2f84ddaf-078a-42de-f0a5-527bf753483f"
      },
      "execution_count": null,
      "outputs": [
        {
          "output_type": "stream",
          "name": "stdout",
          "text": [
            "unzip:  cannot find or open gdrive/My Drive/Colab, gdrive/My Drive/Colab.zip or gdrive/My Drive/Colab.ZIP.\n"
          ]
        }
      ]
    },
    {
      "cell_type": "code",
      "source": [
        "#Import the libraries\n",
        "import zipfile\n",
        "import os\n",
        "\n",
        "zip_ref = zipfile.ZipFile('/content/drive/MyDrive/Colab Notebooks/DatasetLHC/Arjun_Assignment_data-20220427T165022Z-002.zip', 'r') #Opens the zip file in read mode\n",
        "zip_ref.extractall('/tmp') #Extracts the files into the /tmp folder\n",
        "zip_ref.close()\n",
        "\n",
        "#/content/drive/MyDrive/Colab Notebooks/DatasetLHC/Arjun_Assignment_data-20220427T165022Z-002.zip"
      ],
      "metadata": {
        "id": "AlU6HGTBGvj2"
      },
      "execution_count": null,
      "outputs": []
    },
    {
      "cell_type": "code",
      "source": [
        "#Import the libraries\n",
        "import zipfile\n",
        "import os\n",
        "\n",
        "zip_ref = zipfile.ZipFile('/tmp/Arjun_Assignment_data/dataset-20210607T020316Z-003.zip', 'r') #Opens the zip file in read mode\n",
        "zip_ref.extractall('/tmp/dataset2') #Extracts the files into the /tmp folder\n",
        "zip_ref.close()\n",
        "\n",
        "#/content/drive/MyDrive/Colab Notebooks/DatasetLHC/Arjun_Assignment_data-20220427T165022Z-002.zip\n",
        "#/tmp/Arjun_Assignment_data/dataset-20210607T020316Z-002.zip\n",
        "#/tmp/Arjun_Assignment_data/dataset-20210607T020316Z-003.zip"
      ],
      "metadata": {
        "id": "rM45fc1YIBiz"
      },
      "execution_count": null,
      "outputs": []
    },
    {
      "cell_type": "code",
      "source": [
        "dataset = pd.read_csv('/tmp/dataset/postLinks.csv')\n",
        "\n",
        "#/content/drive/MyDrive/Colab Notebooks/synchronousmachine.csv\n",
        "\n",
        "\n",
        "#/tmp/Arjun_Assignment_data/dataset-20210607T020316Z-001.zip\n",
        "#/tmp/dataset/postLinks.csv"
      ],
      "metadata": {
        "id": "uB1xlZn9HT5N"
      },
      "execution_count": null,
      "outputs": []
    },
    {
      "cell_type": "code",
      "source": [
        "dataset"
      ],
      "metadata": {
        "colab": {
          "base_uri": "https://localhost:8080/",
          "height": 423
        },
        "id": "MjYgO1IoJWtA",
        "outputId": "193517af-6bd2-464b-8e82-971e975149de"
      },
      "execution_count": null,
      "outputs": [
        {
          "output_type": "execute_result",
          "data": {
            "text/plain": [
              "         Unnamed: 0          id            creation_date   post_id  \\\n",
              "0                 0          19  2010-04-26T02:59:48.130       109   \n",
              "1                 1          37  2010-04-26T02:59:48.600      1970   \n",
              "2                 2          42  2010-04-26T02:59:48.647      2154   \n",
              "3                 3          48  2010-04-26T02:59:48.740      2483   \n",
              "4                 4          52  2010-04-26T02:59:48.757      2572   \n",
              "...             ...         ...                      ...       ...   \n",
              "5292619     5292619  1624278139  2018-09-02T08:09:41.520  52133002   \n",
              "5292620     5292620  1624278147  2018-09-02T08:10:50.820  52134991   \n",
              "5292621     5292621  1624278315  2018-09-02T08:14:26.470  52135049   \n",
              "5292622     5292622  1624278337  2018-09-02T08:15:36.387  52135007   \n",
              "5292623     5292623  1624278449  2018-09-02T08:17:32.137  52135049   \n",
              "\n",
              "         related_post_id  link_type_id  \n",
              "0                  32412             1  \n",
              "1                 617600             1  \n",
              "2                2451138             1  \n",
              "3                 496096             1  \n",
              "4                 209329             1  \n",
              "...                  ...           ...  \n",
              "5292619         31486547             1  \n",
              "5292620          5500805             1  \n",
              "5292621         30461565             1  \n",
              "5292622          1761051             1  \n",
              "5292623          3127429             1  \n",
              "\n",
              "[5292624 rows x 6 columns]"
            ],
            "text/html": [
              "\n",
              "  <div id=\"df-59ae4ac3-8684-4cf9-bd0e-915894f3909d\">\n",
              "    <div class=\"colab-df-container\">\n",
              "      <div>\n",
              "<style scoped>\n",
              "    .dataframe tbody tr th:only-of-type {\n",
              "        vertical-align: middle;\n",
              "    }\n",
              "\n",
              "    .dataframe tbody tr th {\n",
              "        vertical-align: top;\n",
              "    }\n",
              "\n",
              "    .dataframe thead th {\n",
              "        text-align: right;\n",
              "    }\n",
              "</style>\n",
              "<table border=\"1\" class=\"dataframe\">\n",
              "  <thead>\n",
              "    <tr style=\"text-align: right;\">\n",
              "      <th></th>\n",
              "      <th>Unnamed: 0</th>\n",
              "      <th>id</th>\n",
              "      <th>creation_date</th>\n",
              "      <th>post_id</th>\n",
              "      <th>related_post_id</th>\n",
              "      <th>link_type_id</th>\n",
              "    </tr>\n",
              "  </thead>\n",
              "  <tbody>\n",
              "    <tr>\n",
              "      <th>0</th>\n",
              "      <td>0</td>\n",
              "      <td>19</td>\n",
              "      <td>2010-04-26T02:59:48.130</td>\n",
              "      <td>109</td>\n",
              "      <td>32412</td>\n",
              "      <td>1</td>\n",
              "    </tr>\n",
              "    <tr>\n",
              "      <th>1</th>\n",
              "      <td>1</td>\n",
              "      <td>37</td>\n",
              "      <td>2010-04-26T02:59:48.600</td>\n",
              "      <td>1970</td>\n",
              "      <td>617600</td>\n",
              "      <td>1</td>\n",
              "    </tr>\n",
              "    <tr>\n",
              "      <th>2</th>\n",
              "      <td>2</td>\n",
              "      <td>42</td>\n",
              "      <td>2010-04-26T02:59:48.647</td>\n",
              "      <td>2154</td>\n",
              "      <td>2451138</td>\n",
              "      <td>1</td>\n",
              "    </tr>\n",
              "    <tr>\n",
              "      <th>3</th>\n",
              "      <td>3</td>\n",
              "      <td>48</td>\n",
              "      <td>2010-04-26T02:59:48.740</td>\n",
              "      <td>2483</td>\n",
              "      <td>496096</td>\n",
              "      <td>1</td>\n",
              "    </tr>\n",
              "    <tr>\n",
              "      <th>4</th>\n",
              "      <td>4</td>\n",
              "      <td>52</td>\n",
              "      <td>2010-04-26T02:59:48.757</td>\n",
              "      <td>2572</td>\n",
              "      <td>209329</td>\n",
              "      <td>1</td>\n",
              "    </tr>\n",
              "    <tr>\n",
              "      <th>...</th>\n",
              "      <td>...</td>\n",
              "      <td>...</td>\n",
              "      <td>...</td>\n",
              "      <td>...</td>\n",
              "      <td>...</td>\n",
              "      <td>...</td>\n",
              "    </tr>\n",
              "    <tr>\n",
              "      <th>5292619</th>\n",
              "      <td>5292619</td>\n",
              "      <td>1624278139</td>\n",
              "      <td>2018-09-02T08:09:41.520</td>\n",
              "      <td>52133002</td>\n",
              "      <td>31486547</td>\n",
              "      <td>1</td>\n",
              "    </tr>\n",
              "    <tr>\n",
              "      <th>5292620</th>\n",
              "      <td>5292620</td>\n",
              "      <td>1624278147</td>\n",
              "      <td>2018-09-02T08:10:50.820</td>\n",
              "      <td>52134991</td>\n",
              "      <td>5500805</td>\n",
              "      <td>1</td>\n",
              "    </tr>\n",
              "    <tr>\n",
              "      <th>5292621</th>\n",
              "      <td>5292621</td>\n",
              "      <td>1624278315</td>\n",
              "      <td>2018-09-02T08:14:26.470</td>\n",
              "      <td>52135049</td>\n",
              "      <td>30461565</td>\n",
              "      <td>1</td>\n",
              "    </tr>\n",
              "    <tr>\n",
              "      <th>5292622</th>\n",
              "      <td>5292622</td>\n",
              "      <td>1624278337</td>\n",
              "      <td>2018-09-02T08:15:36.387</td>\n",
              "      <td>52135007</td>\n",
              "      <td>1761051</td>\n",
              "      <td>1</td>\n",
              "    </tr>\n",
              "    <tr>\n",
              "      <th>5292623</th>\n",
              "      <td>5292623</td>\n",
              "      <td>1624278449</td>\n",
              "      <td>2018-09-02T08:17:32.137</td>\n",
              "      <td>52135049</td>\n",
              "      <td>3127429</td>\n",
              "      <td>1</td>\n",
              "    </tr>\n",
              "  </tbody>\n",
              "</table>\n",
              "<p>5292624 rows × 6 columns</p>\n",
              "</div>\n",
              "      <button class=\"colab-df-convert\" onclick=\"convertToInteractive('df-59ae4ac3-8684-4cf9-bd0e-915894f3909d')\"\n",
              "              title=\"Convert this dataframe to an interactive table.\"\n",
              "              style=\"display:none;\">\n",
              "        \n",
              "  <svg xmlns=\"http://www.w3.org/2000/svg\" height=\"24px\"viewBox=\"0 0 24 24\"\n",
              "       width=\"24px\">\n",
              "    <path d=\"M0 0h24v24H0V0z\" fill=\"none\"/>\n",
              "    <path d=\"M18.56 5.44l.94 2.06.94-2.06 2.06-.94-2.06-.94-.94-2.06-.94 2.06-2.06.94zm-11 1L8.5 8.5l.94-2.06 2.06-.94-2.06-.94L8.5 2.5l-.94 2.06-2.06.94zm10 10l.94 2.06.94-2.06 2.06-.94-2.06-.94-.94-2.06-.94 2.06-2.06.94z\"/><path d=\"M17.41 7.96l-1.37-1.37c-.4-.4-.92-.59-1.43-.59-.52 0-1.04.2-1.43.59L10.3 9.45l-7.72 7.72c-.78.78-.78 2.05 0 2.83L4 21.41c.39.39.9.59 1.41.59.51 0 1.02-.2 1.41-.59l7.78-7.78 2.81-2.81c.8-.78.8-2.07 0-2.86zM5.41 20L4 18.59l7.72-7.72 1.47 1.35L5.41 20z\"/>\n",
              "  </svg>\n",
              "      </button>\n",
              "      \n",
              "  <style>\n",
              "    .colab-df-container {\n",
              "      display:flex;\n",
              "      flex-wrap:wrap;\n",
              "      gap: 12px;\n",
              "    }\n",
              "\n",
              "    .colab-df-convert {\n",
              "      background-color: #E8F0FE;\n",
              "      border: none;\n",
              "      border-radius: 50%;\n",
              "      cursor: pointer;\n",
              "      display: none;\n",
              "      fill: #1967D2;\n",
              "      height: 32px;\n",
              "      padding: 0 0 0 0;\n",
              "      width: 32px;\n",
              "    }\n",
              "\n",
              "    .colab-df-convert:hover {\n",
              "      background-color: #E2EBFA;\n",
              "      box-shadow: 0px 1px 2px rgba(60, 64, 67, 0.3), 0px 1px 3px 1px rgba(60, 64, 67, 0.15);\n",
              "      fill: #174EA6;\n",
              "    }\n",
              "\n",
              "    [theme=dark] .colab-df-convert {\n",
              "      background-color: #3B4455;\n",
              "      fill: #D2E3FC;\n",
              "    }\n",
              "\n",
              "    [theme=dark] .colab-df-convert:hover {\n",
              "      background-color: #434B5C;\n",
              "      box-shadow: 0px 1px 3px 1px rgba(0, 0, 0, 0.15);\n",
              "      filter: drop-shadow(0px 1px 2px rgba(0, 0, 0, 0.3));\n",
              "      fill: #FFFFFF;\n",
              "    }\n",
              "  </style>\n",
              "\n",
              "      <script>\n",
              "        const buttonEl =\n",
              "          document.querySelector('#df-59ae4ac3-8684-4cf9-bd0e-915894f3909d button.colab-df-convert');\n",
              "        buttonEl.style.display =\n",
              "          google.colab.kernel.accessAllowed ? 'block' : 'none';\n",
              "\n",
              "        async function convertToInteractive(key) {\n",
              "          const element = document.querySelector('#df-59ae4ac3-8684-4cf9-bd0e-915894f3909d');\n",
              "          const dataTable =\n",
              "            await google.colab.kernel.invokeFunction('convertToInteractive',\n",
              "                                                     [key], {});\n",
              "          if (!dataTable) return;\n",
              "\n",
              "          const docLinkHtml = 'Like what you see? Visit the ' +\n",
              "            '<a target=\"_blank\" href=https://colab.research.google.com/notebooks/data_table.ipynb>data table notebook</a>'\n",
              "            + ' to learn more about interactive tables.';\n",
              "          element.innerHTML = '';\n",
              "          dataTable['output_type'] = 'display_data';\n",
              "          await google.colab.output.renderOutput(dataTable, element);\n",
              "          const docLink = document.createElement('div');\n",
              "          docLink.innerHTML = docLinkHtml;\n",
              "          element.appendChild(docLink);\n",
              "        }\n",
              "      </script>\n",
              "    </div>\n",
              "  </div>\n",
              "  "
            ]
          },
          "metadata": {},
          "execution_count": 12
        }
      ]
    },
    {
      "cell_type": "code",
      "source": [
        "dataset.shape"
      ],
      "metadata": {
        "colab": {
          "base_uri": "https://localhost:8080/"
        },
        "id": "55K7G-rkKL2T",
        "outputId": "001b5dcd-1712-4d0d-bde8-ec38c84554e2"
      },
      "execution_count": null,
      "outputs": [
        {
          "output_type": "execute_result",
          "data": {
            "text/plain": [
              "(5292624, 6)"
            ]
          },
          "metadata": {},
          "execution_count": 14
        }
      ]
    },
    {
      "cell_type": "code",
      "source": [
        "type(dataset)"
      ],
      "metadata": {
        "colab": {
          "base_uri": "https://localhost:8080/"
        },
        "id": "S4kxzdJeKN4I",
        "outputId": "6893299c-993a-4a54-8a68-44159075099a"
      },
      "execution_count": null,
      "outputs": [
        {
          "output_type": "execute_result",
          "data": {
            "text/plain": [
              "pandas.core.frame.DataFrame"
            ]
          },
          "metadata": {},
          "execution_count": 15
        }
      ]
    },
    {
      "cell_type": "code",
      "source": [
        "dataset= pd.DataFrame(dataset)"
      ],
      "metadata": {
        "id": "qBaAagtEKQh6"
      },
      "execution_count": null,
      "outputs": []
    },
    {
      "cell_type": "code",
      "source": [
        "dataset.describe()"
      ],
      "metadata": {
        "colab": {
          "base_uri": "https://localhost:8080/",
          "height": 300
        },
        "id": "U0A046B7KT6N",
        "outputId": "cf37a1f5-620c-4852-8610-31e5bf93e1af"
      },
      "execution_count": null,
      "outputs": [
        {
          "output_type": "execute_result",
          "data": {
            "text/plain": [
              "         Unnamed: 0            id       post_id  related_post_id  link_type_id\n",
              "count  5.292624e+06  5.292624e+06  5.292624e+06     5.292624e+06  5.292624e+06\n",
              "mean   2.646312e+06  1.051989e+09  2.942919e+07     1.392535e+07  1.257841e+00\n",
              "std    1.527849e+06  3.681968e+08  1.449512e+07     1.303836e+07  6.702245e-01\n",
              "min    0.000000e+00  1.900000e+01  9.000000e+00     0.000000e+00  1.000000e+00\n",
              "25%    1.323156e+06  8.417155e+08  1.752131e+07     3.132146e+06  1.000000e+00\n",
              "50%    2.646312e+06  1.127180e+09  3.094185e+07     9.730966e+06  1.000000e+00\n",
              "75%    3.969467e+06  1.296383e+09  4.191839e+07     2.173771e+07  1.000000e+00\n",
              "max    5.292623e+06  1.624278e+09  5.213511e+07     3.841928e+08  3.000000e+00"
            ],
            "text/html": [
              "\n",
              "  <div id=\"df-5f2c724a-f31a-4764-8b46-310980911917\">\n",
              "    <div class=\"colab-df-container\">\n",
              "      <div>\n",
              "<style scoped>\n",
              "    .dataframe tbody tr th:only-of-type {\n",
              "        vertical-align: middle;\n",
              "    }\n",
              "\n",
              "    .dataframe tbody tr th {\n",
              "        vertical-align: top;\n",
              "    }\n",
              "\n",
              "    .dataframe thead th {\n",
              "        text-align: right;\n",
              "    }\n",
              "</style>\n",
              "<table border=\"1\" class=\"dataframe\">\n",
              "  <thead>\n",
              "    <tr style=\"text-align: right;\">\n",
              "      <th></th>\n",
              "      <th>Unnamed: 0</th>\n",
              "      <th>id</th>\n",
              "      <th>post_id</th>\n",
              "      <th>related_post_id</th>\n",
              "      <th>link_type_id</th>\n",
              "    </tr>\n",
              "  </thead>\n",
              "  <tbody>\n",
              "    <tr>\n",
              "      <th>count</th>\n",
              "      <td>5.292624e+06</td>\n",
              "      <td>5.292624e+06</td>\n",
              "      <td>5.292624e+06</td>\n",
              "      <td>5.292624e+06</td>\n",
              "      <td>5.292624e+06</td>\n",
              "    </tr>\n",
              "    <tr>\n",
              "      <th>mean</th>\n",
              "      <td>2.646312e+06</td>\n",
              "      <td>1.051989e+09</td>\n",
              "      <td>2.942919e+07</td>\n",
              "      <td>1.392535e+07</td>\n",
              "      <td>1.257841e+00</td>\n",
              "    </tr>\n",
              "    <tr>\n",
              "      <th>std</th>\n",
              "      <td>1.527849e+06</td>\n",
              "      <td>3.681968e+08</td>\n",
              "      <td>1.449512e+07</td>\n",
              "      <td>1.303836e+07</td>\n",
              "      <td>6.702245e-01</td>\n",
              "    </tr>\n",
              "    <tr>\n",
              "      <th>min</th>\n",
              "      <td>0.000000e+00</td>\n",
              "      <td>1.900000e+01</td>\n",
              "      <td>9.000000e+00</td>\n",
              "      <td>0.000000e+00</td>\n",
              "      <td>1.000000e+00</td>\n",
              "    </tr>\n",
              "    <tr>\n",
              "      <th>25%</th>\n",
              "      <td>1.323156e+06</td>\n",
              "      <td>8.417155e+08</td>\n",
              "      <td>1.752131e+07</td>\n",
              "      <td>3.132146e+06</td>\n",
              "      <td>1.000000e+00</td>\n",
              "    </tr>\n",
              "    <tr>\n",
              "      <th>50%</th>\n",
              "      <td>2.646312e+06</td>\n",
              "      <td>1.127180e+09</td>\n",
              "      <td>3.094185e+07</td>\n",
              "      <td>9.730966e+06</td>\n",
              "      <td>1.000000e+00</td>\n",
              "    </tr>\n",
              "    <tr>\n",
              "      <th>75%</th>\n",
              "      <td>3.969467e+06</td>\n",
              "      <td>1.296383e+09</td>\n",
              "      <td>4.191839e+07</td>\n",
              "      <td>2.173771e+07</td>\n",
              "      <td>1.000000e+00</td>\n",
              "    </tr>\n",
              "    <tr>\n",
              "      <th>max</th>\n",
              "      <td>5.292623e+06</td>\n",
              "      <td>1.624278e+09</td>\n",
              "      <td>5.213511e+07</td>\n",
              "      <td>3.841928e+08</td>\n",
              "      <td>3.000000e+00</td>\n",
              "    </tr>\n",
              "  </tbody>\n",
              "</table>\n",
              "</div>\n",
              "      <button class=\"colab-df-convert\" onclick=\"convertToInteractive('df-5f2c724a-f31a-4764-8b46-310980911917')\"\n",
              "              title=\"Convert this dataframe to an interactive table.\"\n",
              "              style=\"display:none;\">\n",
              "        \n",
              "  <svg xmlns=\"http://www.w3.org/2000/svg\" height=\"24px\"viewBox=\"0 0 24 24\"\n",
              "       width=\"24px\">\n",
              "    <path d=\"M0 0h24v24H0V0z\" fill=\"none\"/>\n",
              "    <path d=\"M18.56 5.44l.94 2.06.94-2.06 2.06-.94-2.06-.94-.94-2.06-.94 2.06-2.06.94zm-11 1L8.5 8.5l.94-2.06 2.06-.94-2.06-.94L8.5 2.5l-.94 2.06-2.06.94zm10 10l.94 2.06.94-2.06 2.06-.94-2.06-.94-.94-2.06-.94 2.06-2.06.94z\"/><path d=\"M17.41 7.96l-1.37-1.37c-.4-.4-.92-.59-1.43-.59-.52 0-1.04.2-1.43.59L10.3 9.45l-7.72 7.72c-.78.78-.78 2.05 0 2.83L4 21.41c.39.39.9.59 1.41.59.51 0 1.02-.2 1.41-.59l7.78-7.78 2.81-2.81c.8-.78.8-2.07 0-2.86zM5.41 20L4 18.59l7.72-7.72 1.47 1.35L5.41 20z\"/>\n",
              "  </svg>\n",
              "      </button>\n",
              "      \n",
              "  <style>\n",
              "    .colab-df-container {\n",
              "      display:flex;\n",
              "      flex-wrap:wrap;\n",
              "      gap: 12px;\n",
              "    }\n",
              "\n",
              "    .colab-df-convert {\n",
              "      background-color: #E8F0FE;\n",
              "      border: none;\n",
              "      border-radius: 50%;\n",
              "      cursor: pointer;\n",
              "      display: none;\n",
              "      fill: #1967D2;\n",
              "      height: 32px;\n",
              "      padding: 0 0 0 0;\n",
              "      width: 32px;\n",
              "    }\n",
              "\n",
              "    .colab-df-convert:hover {\n",
              "      background-color: #E2EBFA;\n",
              "      box-shadow: 0px 1px 2px rgba(60, 64, 67, 0.3), 0px 1px 3px 1px rgba(60, 64, 67, 0.15);\n",
              "      fill: #174EA6;\n",
              "    }\n",
              "\n",
              "    [theme=dark] .colab-df-convert {\n",
              "      background-color: #3B4455;\n",
              "      fill: #D2E3FC;\n",
              "    }\n",
              "\n",
              "    [theme=dark] .colab-df-convert:hover {\n",
              "      background-color: #434B5C;\n",
              "      box-shadow: 0px 1px 3px 1px rgba(0, 0, 0, 0.15);\n",
              "      filter: drop-shadow(0px 1px 2px rgba(0, 0, 0, 0.3));\n",
              "      fill: #FFFFFF;\n",
              "    }\n",
              "  </style>\n",
              "\n",
              "      <script>\n",
              "        const buttonEl =\n",
              "          document.querySelector('#df-5f2c724a-f31a-4764-8b46-310980911917 button.colab-df-convert');\n",
              "        buttonEl.style.display =\n",
              "          google.colab.kernel.accessAllowed ? 'block' : 'none';\n",
              "\n",
              "        async function convertToInteractive(key) {\n",
              "          const element = document.querySelector('#df-5f2c724a-f31a-4764-8b46-310980911917');\n",
              "          const dataTable =\n",
              "            await google.colab.kernel.invokeFunction('convertToInteractive',\n",
              "                                                     [key], {});\n",
              "          if (!dataTable) return;\n",
              "\n",
              "          const docLinkHtml = 'Like what you see? Visit the ' +\n",
              "            '<a target=\"_blank\" href=https://colab.research.google.com/notebooks/data_table.ipynb>data table notebook</a>'\n",
              "            + ' to learn more about interactive tables.';\n",
              "          element.innerHTML = '';\n",
              "          dataTable['output_type'] = 'display_data';\n",
              "          await google.colab.output.renderOutput(dataTable, element);\n",
              "          const docLink = document.createElement('div');\n",
              "          docLink.innerHTML = docLinkHtml;\n",
              "          element.appendChild(docLink);\n",
              "        }\n",
              "      </script>\n",
              "    </div>\n",
              "  </div>\n",
              "  "
            ]
          },
          "metadata": {},
          "execution_count": 17
        }
      ]
    },
    {
      "cell_type": "code",
      "source": [
        "col = list(dataset.columns.values)\n",
        "print(col)"
      ],
      "metadata": {
        "colab": {
          "base_uri": "https://localhost:8080/"
        },
        "id": "Btf6svx9KZaJ",
        "outputId": "73168f30-841b-4448-b60f-3af65880bfc3"
      },
      "execution_count": null,
      "outputs": [
        {
          "output_type": "stream",
          "name": "stdout",
          "text": [
            "['Unnamed: 0', 'id', 'creation_date', 'post_id', 'related_post_id', 'link_type_id']\n"
          ]
        }
      ]
    },
    {
      "cell_type": "code",
      "source": [
        "df1 = pd.DataFrame()\n",
        "\n",
        "df1['id'] = dataset['id']\n",
        "df1['post_id'] = dataset['post_id']\n",
        "df1['link_type_id'] = dataset['link_type_id']\n",
        "df1['creation_date'] = dataset['creation_date']"
      ],
      "metadata": {
        "id": "ThmjV4jjJyPW"
      },
      "execution_count": null,
      "outputs": []
    },
    {
      "cell_type": "code",
      "source": [
        "df1"
      ],
      "metadata": {
        "colab": {
          "base_uri": "https://localhost:8080/",
          "height": 423
        },
        "id": "pU1oQZ4-KFcj",
        "outputId": "15cf3afe-31c6-45c7-d8ea-5ae5f4a97b39"
      },
      "execution_count": null,
      "outputs": [
        {
          "output_type": "execute_result",
          "data": {
            "text/plain": [
              "                 id   post_id  link_type_id            creation_date\n",
              "0                19       109             1  2010-04-26T02:59:48.130\n",
              "1                37      1970             1  2010-04-26T02:59:48.600\n",
              "2                42      2154             1  2010-04-26T02:59:48.647\n",
              "3                48      2483             1  2010-04-26T02:59:48.740\n",
              "4                52      2572             1  2010-04-26T02:59:48.757\n",
              "...             ...       ...           ...                      ...\n",
              "5292619  1624278139  52133002             1  2018-09-02T08:09:41.520\n",
              "5292620  1624278147  52134991             1  2018-09-02T08:10:50.820\n",
              "5292621  1624278315  52135049             1  2018-09-02T08:14:26.470\n",
              "5292622  1624278337  52135007             1  2018-09-02T08:15:36.387\n",
              "5292623  1624278449  52135049             1  2018-09-02T08:17:32.137\n",
              "\n",
              "[5292624 rows x 4 columns]"
            ],
            "text/html": [
              "\n",
              "  <div id=\"df-79a9b92a-96d6-4ace-8f92-52054c7c04f6\">\n",
              "    <div class=\"colab-df-container\">\n",
              "      <div>\n",
              "<style scoped>\n",
              "    .dataframe tbody tr th:only-of-type {\n",
              "        vertical-align: middle;\n",
              "    }\n",
              "\n",
              "    .dataframe tbody tr th {\n",
              "        vertical-align: top;\n",
              "    }\n",
              "\n",
              "    .dataframe thead th {\n",
              "        text-align: right;\n",
              "    }\n",
              "</style>\n",
              "<table border=\"1\" class=\"dataframe\">\n",
              "  <thead>\n",
              "    <tr style=\"text-align: right;\">\n",
              "      <th></th>\n",
              "      <th>id</th>\n",
              "      <th>post_id</th>\n",
              "      <th>link_type_id</th>\n",
              "      <th>creation_date</th>\n",
              "    </tr>\n",
              "  </thead>\n",
              "  <tbody>\n",
              "    <tr>\n",
              "      <th>0</th>\n",
              "      <td>19</td>\n",
              "      <td>109</td>\n",
              "      <td>1</td>\n",
              "      <td>2010-04-26T02:59:48.130</td>\n",
              "    </tr>\n",
              "    <tr>\n",
              "      <th>1</th>\n",
              "      <td>37</td>\n",
              "      <td>1970</td>\n",
              "      <td>1</td>\n",
              "      <td>2010-04-26T02:59:48.600</td>\n",
              "    </tr>\n",
              "    <tr>\n",
              "      <th>2</th>\n",
              "      <td>42</td>\n",
              "      <td>2154</td>\n",
              "      <td>1</td>\n",
              "      <td>2010-04-26T02:59:48.647</td>\n",
              "    </tr>\n",
              "    <tr>\n",
              "      <th>3</th>\n",
              "      <td>48</td>\n",
              "      <td>2483</td>\n",
              "      <td>1</td>\n",
              "      <td>2010-04-26T02:59:48.740</td>\n",
              "    </tr>\n",
              "    <tr>\n",
              "      <th>4</th>\n",
              "      <td>52</td>\n",
              "      <td>2572</td>\n",
              "      <td>1</td>\n",
              "      <td>2010-04-26T02:59:48.757</td>\n",
              "    </tr>\n",
              "    <tr>\n",
              "      <th>...</th>\n",
              "      <td>...</td>\n",
              "      <td>...</td>\n",
              "      <td>...</td>\n",
              "      <td>...</td>\n",
              "    </tr>\n",
              "    <tr>\n",
              "      <th>5292619</th>\n",
              "      <td>1624278139</td>\n",
              "      <td>52133002</td>\n",
              "      <td>1</td>\n",
              "      <td>2018-09-02T08:09:41.520</td>\n",
              "    </tr>\n",
              "    <tr>\n",
              "      <th>5292620</th>\n",
              "      <td>1624278147</td>\n",
              "      <td>52134991</td>\n",
              "      <td>1</td>\n",
              "      <td>2018-09-02T08:10:50.820</td>\n",
              "    </tr>\n",
              "    <tr>\n",
              "      <th>5292621</th>\n",
              "      <td>1624278315</td>\n",
              "      <td>52135049</td>\n",
              "      <td>1</td>\n",
              "      <td>2018-09-02T08:14:26.470</td>\n",
              "    </tr>\n",
              "    <tr>\n",
              "      <th>5292622</th>\n",
              "      <td>1624278337</td>\n",
              "      <td>52135007</td>\n",
              "      <td>1</td>\n",
              "      <td>2018-09-02T08:15:36.387</td>\n",
              "    </tr>\n",
              "    <tr>\n",
              "      <th>5292623</th>\n",
              "      <td>1624278449</td>\n",
              "      <td>52135049</td>\n",
              "      <td>1</td>\n",
              "      <td>2018-09-02T08:17:32.137</td>\n",
              "    </tr>\n",
              "  </tbody>\n",
              "</table>\n",
              "<p>5292624 rows × 4 columns</p>\n",
              "</div>\n",
              "      <button class=\"colab-df-convert\" onclick=\"convertToInteractive('df-79a9b92a-96d6-4ace-8f92-52054c7c04f6')\"\n",
              "              title=\"Convert this dataframe to an interactive table.\"\n",
              "              style=\"display:none;\">\n",
              "        \n",
              "  <svg xmlns=\"http://www.w3.org/2000/svg\" height=\"24px\"viewBox=\"0 0 24 24\"\n",
              "       width=\"24px\">\n",
              "    <path d=\"M0 0h24v24H0V0z\" fill=\"none\"/>\n",
              "    <path d=\"M18.56 5.44l.94 2.06.94-2.06 2.06-.94-2.06-.94-.94-2.06-.94 2.06-2.06.94zm-11 1L8.5 8.5l.94-2.06 2.06-.94-2.06-.94L8.5 2.5l-.94 2.06-2.06.94zm10 10l.94 2.06.94-2.06 2.06-.94-2.06-.94-.94-2.06-.94 2.06-2.06.94z\"/><path d=\"M17.41 7.96l-1.37-1.37c-.4-.4-.92-.59-1.43-.59-.52 0-1.04.2-1.43.59L10.3 9.45l-7.72 7.72c-.78.78-.78 2.05 0 2.83L4 21.41c.39.39.9.59 1.41.59.51 0 1.02-.2 1.41-.59l7.78-7.78 2.81-2.81c.8-.78.8-2.07 0-2.86zM5.41 20L4 18.59l7.72-7.72 1.47 1.35L5.41 20z\"/>\n",
              "  </svg>\n",
              "      </button>\n",
              "      \n",
              "  <style>\n",
              "    .colab-df-container {\n",
              "      display:flex;\n",
              "      flex-wrap:wrap;\n",
              "      gap: 12px;\n",
              "    }\n",
              "\n",
              "    .colab-df-convert {\n",
              "      background-color: #E8F0FE;\n",
              "      border: none;\n",
              "      border-radius: 50%;\n",
              "      cursor: pointer;\n",
              "      display: none;\n",
              "      fill: #1967D2;\n",
              "      height: 32px;\n",
              "      padding: 0 0 0 0;\n",
              "      width: 32px;\n",
              "    }\n",
              "\n",
              "    .colab-df-convert:hover {\n",
              "      background-color: #E2EBFA;\n",
              "      box-shadow: 0px 1px 2px rgba(60, 64, 67, 0.3), 0px 1px 3px 1px rgba(60, 64, 67, 0.15);\n",
              "      fill: #174EA6;\n",
              "    }\n",
              "\n",
              "    [theme=dark] .colab-df-convert {\n",
              "      background-color: #3B4455;\n",
              "      fill: #D2E3FC;\n",
              "    }\n",
              "\n",
              "    [theme=dark] .colab-df-convert:hover {\n",
              "      background-color: #434B5C;\n",
              "      box-shadow: 0px 1px 3px 1px rgba(0, 0, 0, 0.15);\n",
              "      filter: drop-shadow(0px 1px 2px rgba(0, 0, 0, 0.3));\n",
              "      fill: #FFFFFF;\n",
              "    }\n",
              "  </style>\n",
              "\n",
              "      <script>\n",
              "        const buttonEl =\n",
              "          document.querySelector('#df-79a9b92a-96d6-4ace-8f92-52054c7c04f6 button.colab-df-convert');\n",
              "        buttonEl.style.display =\n",
              "          google.colab.kernel.accessAllowed ? 'block' : 'none';\n",
              "\n",
              "        async function convertToInteractive(key) {\n",
              "          const element = document.querySelector('#df-79a9b92a-96d6-4ace-8f92-52054c7c04f6');\n",
              "          const dataTable =\n",
              "            await google.colab.kernel.invokeFunction('convertToInteractive',\n",
              "                                                     [key], {});\n",
              "          if (!dataTable) return;\n",
              "\n",
              "          const docLinkHtml = 'Like what you see? Visit the ' +\n",
              "            '<a target=\"_blank\" href=https://colab.research.google.com/notebooks/data_table.ipynb>data table notebook</a>'\n",
              "            + ' to learn more about interactive tables.';\n",
              "          element.innerHTML = '';\n",
              "          dataTable['output_type'] = 'display_data';\n",
              "          await google.colab.output.renderOutput(dataTable, element);\n",
              "          const docLink = document.createElement('div');\n",
              "          docLink.innerHTML = docLinkHtml;\n",
              "          element.appendChild(docLink);\n",
              "        }\n",
              "      </script>\n",
              "    </div>\n",
              "  </div>\n",
              "  "
            ]
          },
          "metadata": {},
          "execution_count": 24
        }
      ]
    },
    {
      "cell_type": "code",
      "source": [
        "#df1['creation_date'].type"
      ],
      "metadata": {
        "colab": {
          "base_uri": "https://localhost:8080/",
          "height": 286
        },
        "id": "wB9QH0ydKgU9",
        "outputId": "36cc6683-5d62-4710-9118-00e3d03d1890"
      },
      "execution_count": null,
      "outputs": [
        {
          "output_type": "error",
          "ename": "AttributeError",
          "evalue": "ignored",
          "traceback": [
            "\u001b[0;31m---------------------------------------------------------------------------\u001b[0m",
            "\u001b[0;31mAttributeError\u001b[0m                            Traceback (most recent call last)",
            "\u001b[0;32m<ipython-input-25-f2de6c0a2ae9>\u001b[0m in \u001b[0;36m<module>\u001b[0;34m()\u001b[0m\n\u001b[0;32m----> 1\u001b[0;31m \u001b[0mdf1\u001b[0m\u001b[0;34m[\u001b[0m\u001b[0;34m'creation_date'\u001b[0m\u001b[0;34m]\u001b[0m\u001b[0;34m.\u001b[0m\u001b[0mtype\u001b[0m\u001b[0;34m\u001b[0m\u001b[0;34m\u001b[0m\u001b[0m\n\u001b[0m",
            "\u001b[0;32m/usr/local/lib/python3.7/dist-packages/pandas/core/generic.py\u001b[0m in \u001b[0;36m__getattr__\u001b[0;34m(self, name)\u001b[0m\n\u001b[1;32m   5485\u001b[0m         ):\n\u001b[1;32m   5486\u001b[0m             \u001b[0;32mreturn\u001b[0m \u001b[0mself\u001b[0m\u001b[0;34m[\u001b[0m\u001b[0mname\u001b[0m\u001b[0;34m]\u001b[0m\u001b[0;34m\u001b[0m\u001b[0;34m\u001b[0m\u001b[0m\n\u001b[0;32m-> 5487\u001b[0;31m         \u001b[0;32mreturn\u001b[0m \u001b[0mobject\u001b[0m\u001b[0;34m.\u001b[0m\u001b[0m__getattribute__\u001b[0m\u001b[0;34m(\u001b[0m\u001b[0mself\u001b[0m\u001b[0;34m,\u001b[0m \u001b[0mname\u001b[0m\u001b[0;34m)\u001b[0m\u001b[0;34m\u001b[0m\u001b[0;34m\u001b[0m\u001b[0m\n\u001b[0m\u001b[1;32m   5488\u001b[0m \u001b[0;34m\u001b[0m\u001b[0m\n\u001b[1;32m   5489\u001b[0m     \u001b[0;32mdef\u001b[0m \u001b[0m__setattr__\u001b[0m\u001b[0;34m(\u001b[0m\u001b[0mself\u001b[0m\u001b[0;34m,\u001b[0m \u001b[0mname\u001b[0m\u001b[0;34m:\u001b[0m \u001b[0mstr\u001b[0m\u001b[0;34m,\u001b[0m \u001b[0mvalue\u001b[0m\u001b[0;34m)\u001b[0m \u001b[0;34m->\u001b[0m \u001b[0;32mNone\u001b[0m\u001b[0;34m:\u001b[0m\u001b[0;34m\u001b[0m\u001b[0;34m\u001b[0m\u001b[0m\n",
            "\u001b[0;31mAttributeError\u001b[0m: 'Series' object has no attribute 'type'"
          ]
        }
      ]
    },
    {
      "cell_type": "code",
      "source": [
        "dates = df1['creation_date']\n",
        "#print(dates)\n",
        "date_format = [pd.to_datetime(d) for d in dates]\n",
        "print(date_format)"
      ],
      "metadata": {
        "colab": {
          "base_uri": "https://localhost:8080/"
        },
        "id": "VQhgQnw0LhfV",
        "outputId": "1ae9ac91-3035-4ff7-845c-d2542c34b2b4"
      },
      "execution_count": null,
      "outputs": [
        {
          "output_type": "stream",
          "name": "stderr",
          "text": [
            "IOPub data rate exceeded.\n",
            "The notebook server will temporarily stop sending output\n",
            "to the client in order to avoid crashing it.\n",
            "To change this limit, set the config variable\n",
            "`--NotebookApp.iopub_data_rate_limit`.\n",
            "\n",
            "Current values:\n",
            "NotebookApp.iopub_data_rate_limit=1000000.0 (bytes/sec)\n",
            "NotebookApp.rate_limit_window=3.0 (secs)\n",
            "\n"
          ]
        }
      ]
    },
    {
      "cell_type": "code",
      "source": [
        "df1['dates'] = dates"
      ],
      "metadata": {
        "id": "oBEwMuIATf5r"
      },
      "execution_count": null,
      "outputs": []
    },
    {
      "cell_type": "code",
      "source": [
        "fig, ax = plt.subplots(figsize=(12, 5 ))\n",
        "ax.grid()\n",
        "ax.scatter(date_format,df1['link_type_id'])\n",
        "ax.set(xlabel=\"Date\",ylabel=\"Link_type_id\")\n",
        "date_form = DateFormatter('%m-%y')\n",
        "#print(date_form)\n",
        "ax.xaxis.set_major_formatter(date_form)\n",
        "#ax.xaxis.set_major_locator(mdates.DayLocator(interval = 15))\n",
        "plt.show()"
      ],
      "metadata": {
        "colab": {
          "base_uri": "https://localhost:8080/",
          "height": 334
        },
        "id": "qw42Ve0HL3rW",
        "outputId": "139a1ae7-cdc2-4a8b-d064-ff2bded2b6c2"
      },
      "execution_count": null,
      "outputs": [
        {
          "output_type": "display_data",
          "data": {
            "text/plain": [
              "<Figure size 864x360 with 1 Axes>"
            ],
            "image/png": "[encoded data removed]"
          },
          "metadata": {
            "needs_background": "light"
          }
        }
      ]
    },
    {
      "cell_type": "code",
      "source": [
        "print(date_form)"
      ],
      "metadata": {
        "colab": {
          "base_uri": "https://localhost:8080/"
        },
        "id": "_Lf1o1CIOHG3",
        "outputId": "3f2ad74d-413b-4069-de8e-66b98475aa7c"
      },
      "execution_count": null,
      "outputs": [
        {
          "output_type": "stream",
          "name": "stdout",
          "text": [
            "<matplotlib.dates.DateFormatter object at 0x7f6d2d474d50>\n"
          ]
        }
      ]
    },
    {
      "cell_type": "code",
      "source": [
        "df1['dates'] = date_form\n"
      ],
      "metadata": {
        "id": "IOx6V0bcOsyf"
      },
      "execution_count": null,
      "outputs": []
    },
    {
      "cell_type": "code",
      "source": [
        "date_time = [date_format[d].strftime(\"%m-%Y\") for d in range(len(df1))]"
      ],
      "metadata": {
        "id": "u1DVMIcHUv9F"
      },
      "execution_count": null,
      "outputs": []
    },
    {
      "cell_type": "code",
      "source": [
        "df1['date_time'] = date_time"
      ],
      "metadata": {
        "id": "2eMMbmveUvyN"
      },
      "execution_count": null,
      "outputs": []
    },
    {
      "cell_type": "code",
      "source": [
        "df1"
      ],
      "metadata": {
        "colab": {
          "base_uri": "https://localhost:8080/",
          "height": 423
        },
        "id": "6YN_e1UsRSc4",
        "outputId": "5f87a5cf-8e76-4e18-8885-bbe8096a6eae"
      },
      "execution_count": null,
      "outputs": [
        {
          "output_type": "execute_result",
          "data": {
            "text/plain": [
              "                 id   post_id  link_type_id            creation_date  \\\n",
              "0                19       109             1  2010-04-26T02:59:48.130   \n",
              "1                37      1970             1  2010-04-26T02:59:48.600   \n",
              "2                42      2154             1  2010-04-26T02:59:48.647   \n",
              "3                48      2483             1  2010-04-26T02:59:48.740   \n",
              "4                52      2572             1  2010-04-26T02:59:48.757   \n",
              "...             ...       ...           ...                      ...   \n",
              "5292619  1624278139  52133002             1  2018-09-02T08:09:41.520   \n",
              "5292620  1624278147  52134991             1  2018-09-02T08:10:50.820   \n",
              "5292621  1624278315  52135049             1  2018-09-02T08:14:26.470   \n",
              "5292622  1624278337  52135007             1  2018-09-02T08:15:36.387   \n",
              "5292623  1624278449  52135049             1  2018-09-02T08:17:32.137   \n",
              "\n",
              "                           dates date_time  \n",
              "0        2010-04-26T02:59:48.130   04-2010  \n",
              "1        2010-04-26T02:59:48.600   04-2010  \n",
              "2        2010-04-26T02:59:48.647   04-2010  \n",
              "3        2010-04-26T02:59:48.740   04-2010  \n",
              "4        2010-04-26T02:59:48.757   04-2010  \n",
              "...                          ...       ...  \n",
              "5292619  2018-09-02T08:09:41.520   09-2018  \n",
              "5292620  2018-09-02T08:10:50.820   09-2018  \n",
              "5292621  2018-09-02T08:14:26.470   09-2018  \n",
              "5292622  2018-09-02T08:15:36.387   09-2018  \n",
              "5292623  2018-09-02T08:17:32.137   09-2018  \n",
              "\n",
              "[5292624 rows x 6 columns]"
            ],
            "text/html": [
              "\n",
              "  <div id=\"df-6007bb4a-0e06-42f3-8fe4-2a2d7d60a90a\">\n",
              "    <div class=\"colab-df-container\">\n",
              "      <div>\n",
              "<style scoped>\n",
              "    .dataframe tbody tr th:only-of-type {\n",
              "        vertical-align: middle;\n",
              "    }\n",
              "\n",
              "    .dataframe tbody tr th {\n",
              "        vertical-align: top;\n",
              "    }\n",
              "\n",
              "    .dataframe thead th {\n",
              "        text-align: right;\n",
              "    }\n",
              "</style>\n",
              "<table border=\"1\" class=\"dataframe\">\n",
              "  <thead>\n",
              "    <tr style=\"text-align: right;\">\n",
              "      <th></th>\n",
              "      <th>id</th>\n",
              "      <th>post_id</th>\n",
              "      <th>link_type_id</th>\n",
              "      <th>creation_date</th>\n",
              "      <th>dates</th>\n",
              "      <th>date_time</th>\n",
              "    </tr>\n",
              "  </thead>\n",
              "  <tbody>\n",
              "    <tr>\n",
              "      <th>0</th>\n",
              "      <td>19</td>\n",
              "      <td>109</td>\n",
              "      <td>1</td>\n",
              "      <td>2010-04-26T02:59:48.130</td>\n",
              "      <td>2010-04-26T02:59:48.130</td>\n",
              "      <td>04-2010</td>\n",
              "    </tr>\n",
              "    <tr>\n",
              "      <th>1</th>\n",
              "      <td>37</td>\n",
              "      <td>1970</td>\n",
              "      <td>1</td>\n",
              "      <td>2010-04-26T02:59:48.600</td>\n",
              "      <td>2010-04-26T02:59:48.600</td>\n",
              "      <td>04-2010</td>\n",
              "    </tr>\n",
              "    <tr>\n",
              "      <th>2</th>\n",
              "      <td>42</td>\n",
              "      <td>2154</td>\n",
              "      <td>1</td>\n",
              "      <td>2010-04-26T02:59:48.647</td>\n",
              "      <td>2010-04-26T02:59:48.647</td>\n",
              "      <td>04-2010</td>\n",
              "    </tr>\n",
              "    <tr>\n",
              "      <th>3</th>\n",
              "      <td>48</td>\n",
              "      <td>2483</td>\n",
              "      <td>1</td>\n",
              "      <td>2010-04-26T02:59:48.740</td>\n",
              "      <td>2010-04-26T02:59:48.740</td>\n",
              "      <td>04-2010</td>\n",
              "    </tr>\n",
              "    <tr>\n",
              "      <th>4</th>\n",
              "      <td>52</td>\n",
              "      <td>2572</td>\n",
              "      <td>1</td>\n",
              "      <td>2010-04-26T02:59:48.757</td>\n",
              "      <td>2010-04-26T02:59:48.757</td>\n",
              "      <td>04-2010</td>\n",
              "    </tr>\n",
              "    <tr>\n",
              "      <th>...</th>\n",
              "      <td>...</td>\n",
              "      <td>...</td>\n",
              "      <td>...</td>\n",
              "      <td>...</td>\n",
              "      <td>...</td>\n",
              "      <td>...</td>\n",
              "    </tr>\n",
              "    <tr>\n",
              "      <th>5292619</th>\n",
              "      <td>1624278139</td>\n",
              "      <td>52133002</td>\n",
              "      <td>1</td>\n",
              "      <td>2018-09-02T08:09:41.520</td>\n",
              "      <td>2018-09-02T08:09:41.520</td>\n",
              "      <td>09-2018</td>\n",
              "    </tr>\n",
              "    <tr>\n",
              "      <th>5292620</th>\n",
              "      <td>1624278147</td>\n",
              "      <td>52134991</td>\n",
              "      <td>1</td>\n",
              "      <td>2018-09-02T08:10:50.820</td>\n",
              "      <td>2018-09-02T08:10:50.820</td>\n",
              "      <td>09-2018</td>\n",
              "    </tr>\n",
              "    <tr>\n",
              "      <th>5292621</th>\n",
              "      <td>1624278315</td>\n",
              "      <td>52135049</td>\n",
              "      <td>1</td>\n",
              "      <td>2018-09-02T08:14:26.470</td>\n",
              "      <td>2018-09-02T08:14:26.470</td>\n",
              "      <td>09-2018</td>\n",
              "    </tr>\n",
              "    <tr>\n",
              "      <th>5292622</th>\n",
              "      <td>1624278337</td>\n",
              "      <td>52135007</td>\n",
              "      <td>1</td>\n",
              "      <td>2018-09-02T08:15:36.387</td>\n",
              "      <td>2018-09-02T08:15:36.387</td>\n",
              "      <td>09-2018</td>\n",
              "    </tr>\n",
              "    <tr>\n",
              "      <th>5292623</th>\n",
              "      <td>1624278449</td>\n",
              "      <td>52135049</td>\n",
              "      <td>1</td>\n",
              "      <td>2018-09-02T08:17:32.137</td>\n",
              "      <td>2018-09-02T08:17:32.137</td>\n",
              "      <td>09-2018</td>\n",
              "    </tr>\n",
              "  </tbody>\n",
              "</table>\n",
              "<p>5292624 rows × 6 columns</p>\n",
              "</div>\n",
              "      <button class=\"colab-df-convert\" onclick=\"convertToInteractive('df-6007bb4a-0e06-42f3-8fe4-2a2d7d60a90a')\"\n",
              "              title=\"Convert this dataframe to an interactive table.\"\n",
              "              style=\"display:none;\">\n",
              "        \n",
              "  <svg xmlns=\"http://www.w3.org/2000/svg\" height=\"24px\"viewBox=\"0 0 24 24\"\n",
              "       width=\"24px\">\n",
              "    <path d=\"M0 0h24v24H0V0z\" fill=\"none\"/>\n",
              "    <path d=\"M18.56 5.44l.94 2.06.94-2.06 2.06-.94-2.06-.94-.94-2.06-.94 2.06-2.06.94zm-11 1L8.5 8.5l.94-2.06 2.06-.94-2.06-.94L8.5 2.5l-.94 2.06-2.06.94zm10 10l.94 2.06.94-2.06 2.06-.94-2.06-.94-.94-2.06-.94 2.06-2.06.94z\"/><path d=\"M17.41 7.96l-1.37-1.37c-.4-.4-.92-.59-1.43-.59-.52 0-1.04.2-1.43.59L10.3 9.45l-7.72 7.72c-.78.78-.78 2.05 0 2.83L4 21.41c.39.39.9.59 1.41.59.51 0 1.02-.2 1.41-.59l7.78-7.78 2.81-2.81c.8-.78.8-2.07 0-2.86zM5.41 20L4 18.59l7.72-7.72 1.47 1.35L5.41 20z\"/>\n",
              "  </svg>\n",
              "      </button>\n",
              "      \n",
              "  <style>\n",
              "    .colab-df-container {\n",
              "      display:flex;\n",
              "      flex-wrap:wrap;\n",
              "      gap: 12px;\n",
              "    }\n",
              "\n",
              "    .colab-df-convert {\n",
              "      background-color: #E8F0FE;\n",
              "      border: none;\n",
              "      border-radius: 50%;\n",
              "      cursor: pointer;\n",
              "      display: none;\n",
              "      fill: #1967D2;\n",
              "      height: 32px;\n",
              "      padding: 0 0 0 0;\n",
              "      width: 32px;\n",
              "    }\n",
              "\n",
              "    .colab-df-convert:hover {\n",
              "      background-color: #E2EBFA;\n",
              "      box-shadow: 0px 1px 2px rgba(60, 64, 67, 0.3), 0px 1px 3px 1px rgba(60, 64, 67, 0.15);\n",
              "      fill: #174EA6;\n",
              "    }\n",
              "\n",
              "    [theme=dark] .colab-df-convert {\n",
              "      background-color: #3B4455;\n",
              "      fill: #D2E3FC;\n",
              "    }\n",
              "\n",
              "    [theme=dark] .colab-df-convert:hover {\n",
              "      background-color: #434B5C;\n",
              "      box-shadow: 0px 1px 3px 1px rgba(0, 0, 0, 0.15);\n",
              "      filter: drop-shadow(0px 1px 2px rgba(0, 0, 0, 0.3));\n",
              "      fill: #FFFFFF;\n",
              "    }\n",
              "  </style>\n",
              "\n",
              "      <script>\n",
              "        const buttonEl =\n",
              "          document.querySelector('#df-6007bb4a-0e06-42f3-8fe4-2a2d7d60a90a button.colab-df-convert');\n",
              "        buttonEl.style.display =\n",
              "          google.colab.kernel.accessAllowed ? 'block' : 'none';\n",
              "\n",
              "        async function convertToInteractive(key) {\n",
              "          const element = document.querySelector('#df-6007bb4a-0e06-42f3-8fe4-2a2d7d60a90a');\n",
              "          const dataTable =\n",
              "            await google.colab.kernel.invokeFunction('convertToInteractive',\n",
              "                                                     [key], {});\n",
              "          if (!dataTable) return;\n",
              "\n",
              "          const docLinkHtml = 'Like what you see? Visit the ' +\n",
              "            '<a target=\"_blank\" href=https://colab.research.google.com/notebooks/data_table.ipynb>data table notebook</a>'\n",
              "            + ' to learn more about interactive tables.';\n",
              "          element.innerHTML = '';\n",
              "          dataTable['output_type'] = 'display_data';\n",
              "          await google.colab.output.renderOutput(dataTable, element);\n",
              "          const docLink = document.createElement('div');\n",
              "          docLink.innerHTML = docLinkHtml;\n",
              "          element.appendChild(docLink);\n",
              "        }\n",
              "      </script>\n",
              "    </div>\n",
              "  </div>\n",
              "  "
            ]
          },
          "metadata": {},
          "execution_count": 41
        }
      ]
    },
    {
      "cell_type": "code",
      "source": [
        "c = 0\n",
        "for k in range(len(df1)):\n",
        "  if(df1['link_type_id'][k] == 3):\n",
        "    c = c+1\n",
        "print(c)"
      ],
      "metadata": {
        "colab": {
          "base_uri": "https://localhost:8080/"
        },
        "id": "ZvfBNEsJEy9o",
        "outputId": "6b6198c9-41b5-4805-ba2e-73eed215c19e"
      },
      "execution_count": null,
      "outputs": [
        {
          "output_type": "stream",
          "name": "stdout",
          "text": [
            "682329\n"
          ]
        }
      ]
    },
    {
      "cell_type": "code",
      "source": [
        "df1['date_time']"
      ],
      "metadata": {
        "colab": {
          "base_uri": "https://localhost:8080/"
        },
        "id": "KhIwpT6vV8pC",
        "outputId": "4181df18-be06-4796-bd29-ada8f5af3e49"
      },
      "execution_count": null,
      "outputs": [
        {
          "output_type": "execute_result",
          "data": {
            "text/plain": [
              "0          04-2010\n",
              "1          04-2010\n",
              "2          04-2010\n",
              "3          04-2010\n",
              "4          04-2010\n",
              "            ...   \n",
              "5292619    09-2018\n",
              "5292620    09-2018\n",
              "5292621    09-2018\n",
              "5292622    09-2018\n",
              "5292623    09-2018\n",
              "Name: date_time, Length: 5292624, dtype: object"
            ]
          },
          "metadata": {},
          "execution_count": 52
        }
      ]
    },
    {
      "cell_type": "code",
      "source": [
        "unique_Date = df1.date_time.unique()"
      ],
      "metadata": {
        "id": "9wXqf4IZVDq9"
      },
      "execution_count": null,
      "outputs": []
    },
    {
      "cell_type": "code",
      "source": [
        "df1[\"date_time\"] = df1[\"date_time\"].astype('string')"
      ],
      "metadata": {
        "id": "ZYXQvUaiXL7J"
      },
      "execution_count": null,
      "outputs": []
    },
    {
      "cell_type": "code",
      "source": [
        "print(df1[\"date_time\"])"
      ],
      "metadata": {
        "colab": {
          "base_uri": "https://localhost:8080/"
        },
        "id": "hhoNpYDVZR1K",
        "outputId": "8ecccd61-8bc6-4313-d337-ea8c39531ab9"
      },
      "execution_count": null,
      "outputs": [
        {
          "output_type": "stream",
          "name": "stdout",
          "text": [
            "0          04-2010\n",
            "1          04-2010\n",
            "2          04-2010\n",
            "3          04-2010\n",
            "4          04-2010\n",
            "            ...   \n",
            "5292619    09-2018\n",
            "5292620    09-2018\n",
            "5292621    09-2018\n",
            "5292622    09-2018\n",
            "5292623    09-2018\n",
            "Name: date_time, Length: 5292624, dtype: string\n"
          ]
        }
      ]
    },
    {
      "cell_type": "code",
      "source": [
        "df2 = df1['date_time'].value_counts()"
      ],
      "metadata": {
        "id": "4rjop3UMKcJm"
      },
      "execution_count": null,
      "outputs": []
    },
    {
      "cell_type": "code",
      "source": [
        "plt.figure(figsize=(25, 15))\n",
        "df2.plot.barh()"
      ],
      "metadata": {
        "colab": {
          "base_uri": "https://localhost:8080/",
          "height": 680
        },
        "id": "HJL2DxyHKZ4r",
        "outputId": "ff2d0e2a-6374-458a-840e-e4bf0dae2133"
      },
      "execution_count": null,
      "outputs": [
        {
          "output_type": "execute_result",
          "data": {
            "text/plain": [
              "<matplotlib.axes._subplots.AxesSubplot at 0x7f6d173d92d0>"
            ]
          },
          "metadata": {},
          "execution_count": 128
        },
        {
          "output_type": "display_data",
          "data": {
            "text/plain": [
              "<Figure size 1800x1080 with 1 Axes>"
            ],
            "image/png": "[encoded data removed]"
          },
          "metadata": {
            "needs_background": "light"
          }
        }
      ]
    },
    {
      "cell_type": "code",
      "source": [
        "unique_Date"
      ],
      "metadata": {
        "colab": {
          "base_uri": "https://localhost:8080/"
        },
        "id": "_A8-AjnOYbXp",
        "outputId": "b1c8543e-e36f-4338-98e3-189c66786765"
      },
      "execution_count": null,
      "outputs": [
        {
          "output_type": "execute_result",
          "data": {
            "text/plain": [
              "array(['04-2010', '05-2010', '06-2010', '07-2010', '08-2010', '09-2010',\n",
              "       '10-2010', '11-2010', '12-2010', '01-2011', '02-2011', '03-2011',\n",
              "       '04-2011', '05-2011', '06-2011', '07-2011', '08-2011', '09-2011',\n",
              "       '10-2011', '11-2011', '12-2011', '01-2012', '02-2012', '03-2012',\n",
              "       '04-2012', '05-2012', '06-2012', '07-2012', '08-2012', '09-2012',\n",
              "       '10-2012', '11-2012', '12-2012', '01-2013', '02-2013', '03-2013',\n",
              "       '04-2013', '05-2013', '06-2013', '07-2013', '08-2013', '09-2013',\n",
              "       '10-2013', '11-2013', '12-2013', '01-2014', '02-2014', '03-2014',\n",
              "       '04-2014', '05-2014', '06-2014', '07-2014', '08-2014', '09-2014',\n",
              "       '10-2014', '11-2014', '12-2014', '01-2015', '02-2015', '03-2015',\n",
              "       '04-2015', '05-2015', '06-2015', '07-2015', '08-2015', '09-2015',\n",
              "       '10-2015', '11-2015', '12-2015', '01-2016', '02-2016', '03-2016',\n",
              "       '04-2016', '05-2016', '06-2016', '07-2016', '08-2016', '09-2016',\n",
              "       '10-2016', '11-2016', '12-2016', '01-2017', '02-2017', '03-2017',\n",
              "       '04-2017', '05-2017', '06-2017', '07-2017', '08-2017', '09-2017',\n",
              "       '10-2017', '11-2017', '12-2017', '01-2018', '02-2018', '03-2018',\n",
              "       '04-2018', '05-2018', '06-2018', '07-2018', '08-2018', '09-2018'],\n",
              "      dtype=object)"
            ]
          },
          "metadata": {},
          "execution_count": 58
        }
      ]
    },
    {
      "cell_type": "code",
      "source": [
        "df1['link_type_id'] = df1['link_type_id'].astype('int')"
      ],
      "metadata": {
        "id": "MIO4JSw-BG7k"
      },
      "execution_count": null,
      "outputs": []
    },
    {
      "cell_type": "code",
      "source": [
        "l = []\n",
        "for k in range(len(dataset)):\n",
        "  if(df1['link_type_id'][k] == 3):\n",
        "    l.append(df1['date_time'][k])"
      ],
      "metadata": {
        "id": "o3m9vmSuAhK7"
      },
      "execution_count": null,
      "outputs": []
    },
    {
      "cell_type": "code",
      "source": [
        "len(l)"
      ],
      "metadata": {
        "colab": {
          "base_uri": "https://localhost:8080/"
        },
        "id": "dAgO62UbEaEm",
        "outputId": "32bdb212-404d-458d-fc25-41c65dc937d1"
      },
      "execution_count": null,
      "outputs": [
        {
          "output_type": "execute_result",
          "data": {
            "text/plain": [
              "682329"
            ]
          },
          "metadata": {},
          "execution_count": 98
        }
      ]
    },
    {
      "cell_type": "code",
      "source": [
        "l"
      ],
      "metadata": {
        "id": "QPWuA14aAhIK"
      },
      "execution_count": null,
      "outputs": []
    },
    {
      "cell_type": "code",
      "source": [
        "\n",
        "from collections import Counter\n",
        "input = l\n",
        "c = Counter( input )\n",
        "\n",
        "print( c.items() )"
      ],
      "metadata": {
        "colab": {
          "base_uri": "https://localhost:8080/"
        },
        "id": "U2tolwMKAhFo",
        "outputId": "5f914033-d5a3-429a-b08d-1c71712b61ce"
      },
      "execution_count": null,
      "outputs": [
        {
          "output_type": "stream",
          "name": "stdout",
          "text": [
            "dict_items([('02-2013', 75344), ('03-2013', 5579), ('04-2013', 4895), ('05-2013', 4620), ('06-2013', 4434), ('07-2013', 4424), ('08-2013', 4402), ('09-2013', 3467), ('10-2013', 3533), ('11-2013', 3170), ('12-2013', 4651), ('01-2014', 4101), ('02-2014', 5519), ('03-2014', 10816), ('04-2014', 6365), ('05-2014', 9403), ('06-2014', 7586), ('07-2014', 7348), ('08-2014', 6287), ('09-2014', 6688), ('10-2014', 6461), ('11-2014', 5490), ('12-2014', 6264), ('01-2015', 6305), ('02-2015', 5485), ('03-2015', 6643), ('04-2015', 7741), ('05-2015', 7996), ('06-2015', 7928), ('07-2015', 7677), ('08-2015', 7964), ('09-2015', 8306), ('10-2015', 8805), ('11-2015', 9064), ('12-2015', 9700), ('01-2016', 9350), ('02-2016', 9846), ('03-2016', 10477), ('04-2016', 11112), ('05-2016', 10860), ('06-2016', 11502), ('07-2016', 10314), ('08-2016', 10482), ('09-2016', 10492), ('10-2016', 11095), ('11-2016', 10895), ('12-2016', 10034), ('01-2017', 11170), ('02-2017', 10790), ('03-2017', 12666), ('04-2017', 11470), ('05-2017', 11601), ('06-2017', 12079), ('07-2017', 12540), ('08-2017', 13441), ('09-2017', 12946), ('10-2017', 14116), ('11-2017', 15055), ('12-2017', 12511), ('01-2018', 14569), ('02-2018', 13868), ('03-2018', 15366), ('04-2018', 14017), ('05-2018', 13830), ('06-2018', 12378), ('07-2018', 13401), ('08-2018', 13301), ('09-2018', 294)])\n"
          ]
        }
      ]
    },
    {
      "cell_type": "code",
      "source": [
        "d = dict(c)\n",
        "#mylist=tags\n",
        "#[ (c,mylist.count(c)) for c in set(mylist) ]"
      ],
      "metadata": {
        "id": "iByQZEwFAhDR"
      },
      "execution_count": null,
      "outputs": []
    },
    {
      "cell_type": "code",
      "source": [
        "x = [i for i in range(len(d))]\n",
        "print(x)"
      ],
      "metadata": {
        "colab": {
          "base_uri": "https://localhost:8080/"
        },
        "id": "YrDr-6NRAg6Q",
        "outputId": "b464515d-f55f-4c47-fd59-d76e98ad8f48"
      },
      "execution_count": null,
      "outputs": [
        {
          "output_type": "stream",
          "name": "stdout",
          "text": [
            "[0, 1, 2, 3, 4, 5, 6, 7, 8, 9, 10, 11, 12, 13, 14, 15, 16, 17, 18, 19, 20, 21, 22, 23, 24, 25, 26, 27, 28, 29, 30, 31, 32, 33, 34, 35, 36, 37, 38, 39, 40, 41, 42, 43, 44, 45, 46, 47, 48, 49, 50, 51, 52, 53, 54, 55, 56, 57, 58, 59, 60, 61, 62, 63, 64, 65, 66, 67]\n"
          ]
        }
      ]
    },
    {
      "cell_type": "code",
      "source": [
        "y = list()\n",
        "for i,j in d.items():\n",
        "  y.append(j)\n",
        "print(y)"
      ],
      "metadata": {
        "colab": {
          "base_uri": "https://localhost:8080/"
        },
        "id": "eb7BHqlcR8xs",
        "outputId": "fdcdcc87-02cf-4ddb-d7a2-a939ee16653b"
      },
      "execution_count": null,
      "outputs": [
        {
          "output_type": "stream",
          "name": "stdout",
          "text": [
            "[75344, 5579, 4895, 4620, 4434, 4424, 4402, 3467, 3533, 3170, 4651, 4101, 5519, 10816, 6365, 9403, 7586, 7348, 6287, 6688, 6461, 5490, 6264, 6305, 5485, 6643, 7741, 7996, 7928, 7677, 7964, 8306, 8805, 9064, 9700, 9350, 9846, 10477, 11112, 10860, 11502, 10314, 10482, 10492, 11095, 10895, 10034, 11170, 10790, 12666, 11470, 11601, 12079, 12540, 13441, 12946, 14116, 15055, 12511, 14569, 13868, 15366, 14017, 13830, 12378, 13401, 13301, 294]\n"
          ]
        }
      ]
    },
    {
      "cell_type": "code",
      "source": [
        "labels = list()\n",
        "for i,j in d.items():\n",
        "  labels.append(i)\n",
        "print(labels) "
      ],
      "metadata": {
        "colab": {
          "base_uri": "https://localhost:8080/"
        },
        "id": "nyLNfin0TagZ",
        "outputId": "79c0dece-9666-41c0-8f5f-ece4c7c956f3"
      },
      "execution_count": null,
      "outputs": [
        {
          "output_type": "stream",
          "name": "stdout",
          "text": [
            "['02-2013', '03-2013', '04-2013', '05-2013', '06-2013', '07-2013', '08-2013', '09-2013', '10-2013', '11-2013', '12-2013', '01-2014', '02-2014', '03-2014', '04-2014', '05-2014', '06-2014', '07-2014', '08-2014', '09-2014', '10-2014', '11-2014', '12-2014', '01-2015', '02-2015', '03-2015', '04-2015', '05-2015', '06-2015', '07-2015', '08-2015', '09-2015', '10-2015', '11-2015', '12-2015', '01-2016', '02-2016', '03-2016', '04-2016', '05-2016', '06-2016', '07-2016', '08-2016', '09-2016', '10-2016', '11-2016', '12-2016', '01-2017', '02-2017', '03-2017', '04-2017', '05-2017', '06-2017', '07-2017', '08-2017', '09-2017', '10-2017', '11-2017', '12-2017', '01-2018', '02-2018', '03-2018', '04-2018', '05-2018', '06-2018', '07-2018', '08-2018', '09-2018']\n"
          ]
        }
      ]
    },
    {
      "cell_type": "code",
      "source": [
        "plt.figure(figsize=(25, 7))\n",
        "plt.plot(x,y)\n",
        "plt.xlabel(\"Months\")\n",
        "plt.ylabel(\"Occurence\")\n",
        "plt.title(\"Month wise Distribution of Duplication\")\n",
        "\n",
        "plt.xticks(x, labels, rotation ='vertical')\n",
        "\n",
        "plt.show()"
      ],
      "metadata": {
        "colab": {
          "base_uri": "https://localhost:8080/",
          "height": 378
        },
        "id": "mQyZreXlVrEK",
        "outputId": "44fdd91a-6d96-43d3-cc49-98d6dfbed40d"
      },
      "execution_count": null,
      "outputs": [
        {
          "output_type": "display_data",
          "data": {
            "text/plain": [
              "<Figure size 1800x504 with 1 Axes>"
            ],
            "image/png": "[encoded data removed]"
          },
          "metadata": {
            "needs_background": "light"
          }
        }
      ]
    },
    {
      "cell_type": "code",
      "source": [
        "num1 = y[0]\n",
        "num2 = y[1]"
      ],
      "metadata": {
        "id": "OtBsD-xBFoYK"
      },
      "execution_count": null,
      "outputs": []
    },
    {
      "cell_type": "code",
      "source": [
        "ratio = dict()\n",
        "def ratioFunction(num1, num2):\n",
        "    int(num1) # this does nothing because you don't capture it\n",
        "    int(num2) # also this\n",
        "    ratio12 = int(num1/num2)\n",
        "    return ratio12\n",
        "\n",
        "ratioFunction(num1, num2)"
      ],
      "metadata": {
        "colab": {
          "base_uri": "https://localhost:8080/"
        },
        "id": "uSJFCzXZC4AW",
        "outputId": "026afb1f-792e-42aa-95e2-8b9e912dfa83"
      },
      "execution_count": null,
      "outputs": [
        {
          "output_type": "execute_result",
          "data": {
            "text/plain": [
              "45"
            ]
          },
          "metadata": {},
          "execution_count": 122
        }
      ]
    },
    {
      "cell_type": "code",
      "source": [
        "ratios= []\n",
        "for i in range(len(y)-1):\n",
        "  num1 = y[i]\n",
        "  num2 = y[i+1]\n",
        "  a = ratioFunction(num1,num2)\n",
        "  ratios.append(a)\n",
        "print(ratios)"
      ],
      "metadata": {
        "colab": {
          "base_uri": "https://localhost:8080/"
        },
        "id": "GOyZhwR8Fknm",
        "outputId": "62fe5d48-3d03-40f6-8e94-eb4584d68c4b"
      },
      "execution_count": null,
      "outputs": [
        {
          "output_type": "stream",
          "name": "stdout",
          "text": [
            "[13, 1, 1, 1, 1, 1, 1, 0, 1, 0, 1, 0, 0, 1, 0, 1, 1, 1, 0, 1, 1, 0, 0, 1, 0, 0, 0, 1, 1, 0, 0, 0, 0, 0, 1, 0, 0, 0, 1, 0, 1, 0, 0, 0, 1, 1, 0, 1, 0, 1, 0, 0, 0, 0, 1, 0, 0, 1, 0, 1, 0, 1, 1, 1, 0, 1, 45]\n"
          ]
        }
      ]
    },
    {
      "cell_type": "code",
      "source": [
        "x = [i for i in range(len(d)-1)]\n",
        "print(x)"
      ],
      "metadata": {
        "colab": {
          "base_uri": "https://localhost:8080/"
        },
        "id": "ua5LxOzrHKSS",
        "outputId": "9093c010-5337-47a3-d7d9-61b97398a8dd"
      },
      "execution_count": null,
      "outputs": [
        {
          "output_type": "stream",
          "name": "stdout",
          "text": [
            "[0, 1, 2, 3, 4, 5, 6, 7, 8, 9, 10, 11, 12, 13, 14, 15, 16, 17, 18, 19, 20, 21, 22, 23, 24, 25, 26, 27, 28, 29, 30, 31, 32, 33, 34, 35, 36, 37, 38, 39, 40, 41, 42, 43, 44, 45, 46, 47, 48, 49, 50, 51, 52, 53, 54, 55, 56, 57, 58, 59, 60, 61, 62, 63, 64, 65, 66]\n"
          ]
        }
      ]
    },
    {
      "cell_type": "code",
      "source": [
        "plt.figure(figsize=(25, 7))\n",
        "plt.plot(x,ratios)\n",
        "plt.xlabel(\"Months\")\n",
        "plt.ylabel(\"Ratio\")\n",
        "plt.title(\"Month wise Ratio of Duplication\")\n",
        "\n",
        "plt.xticks(x, labels, rotation ='vertical')\n",
        "\n",
        "plt.show()"
      ],
      "metadata": {
        "colab": {
          "base_uri": "https://localhost:8080/",
          "height": 382
        },
        "id": "CUliywMpGcD0",
        "outputId": "cad3f7eb-21e5-42d9-c0d7-ea8cbb9f3bad"
      },
      "execution_count": null,
      "outputs": [
        {
          "output_type": "display_data",
          "data": {
            "text/plain": [
              "<Figure size 1800x504 with 1 Axes>"
            ],
            "image/png": "[encoded data removed]"
          },
          "metadata": {
            "needs_background": "light"
          }
        }
      ]
    },
    {
      "cell_type": "code",
      "source": [
        "df3 = pd.read_csv('/content/drive/MyDrive/Colab Notebooks/DatasetLHC/dataset/posts_short.csv')\n",
        "\n",
        "#/content/drive/MyDrive/Colab Notebooks/synchronousmachine.csv\n",
        "\n",
        "\n",
        "#/tmp/Arjun_Assignment_data/dataset-20210607T020316Z-001.zip\n",
        "#/tmp/dataset/postLinks.csv\n",
        "#/content/drive/MyDrive/Colab Notebooks/DatasetLHC/dataset/postLinks.csv"
      ],
      "metadata": {
        "colab": {
          "base_uri": "https://localhost:8080/"
        },
        "id": "s3cH4g3RG-ST",
        "outputId": "765f5bc3-0d55-4253-aaa7-7463bc748631"
      },
      "execution_count": null,
      "outputs": [
        {
          "output_type": "stream",
          "name": "stderr",
          "text": [
            "/usr/local/lib/python3.7/dist-packages/IPython/core/interactiveshell.py:2882: DtypeWarning: Columns (13) have mixed types.Specify dtype option on import or set low_memory=False.\n",
            "  exec(code_obj, self.user_global_ns, self.user_ns)\n"
          ]
        }
      ]
    },
    {
      "cell_type": "code",
      "source": [
        "df3"
      ],
      "metadata": {
        "colab": {
          "base_uri": "https://localhost:8080/",
          "height": 990
        },
        "id": "bacra2NcNCWj",
        "outputId": "1476297e-492e-401d-8208-3e572534b680"
      },
      "execution_count": null,
      "outputs": [
        {
          "output_type": "execute_result",
          "data": {
            "text/plain": [
              "        Unnamed: 0        id  post_type_id  accepted_answer_id  parent_id  \\\n",
              "0                0         4             1                   7       -999   \n",
              "1                1         6             1                  31       -999   \n",
              "2                2         9             1                1404       -999   \n",
              "3                3        11             1                1248       -999   \n",
              "4                4        13             1                -999       -999   \n",
              "...            ...       ...           ...                 ...        ...   \n",
              "676199      676199  52133457             1                -999       -999   \n",
              "676200      676200  52133674             1                -999       -999   \n",
              "676201      676201  52133700             1                -999       -999   \n",
              "676202      676202  52133880             1                -999       -999   \n",
              "676203      676203  52134121             1                -999       -999   \n",
              "\n",
              "                  creation_date  score  view_count  owner_user_id  \\\n",
              "0       2008-07-31T21:42:52.667    573       37080              8   \n",
              "1       2008-07-31T22:08:08.620    256       16306              9   \n",
              "2       2008-07-31T23:40:59.743   1743      480476              1   \n",
              "3       2008-07-31T23:55:37.967   1348      136033              1   \n",
              "4       2008-08-01T00:42:38.903    539      157009              9   \n",
              "...                         ...    ...         ...            ...   \n",
              "676199  2018-09-02T02:10:04.210      0          14        4101319   \n",
              "676200  2018-09-02T03:08:51.103     -3          16        9815281   \n",
              "676201  2018-09-02T03:15:42.997      0          23        4044009   \n",
              "676202  2018-09-02T04:04:31.570      0          15       10271692   \n",
              "676203  2018-09-02T05:02:16.480      0          12       10049938   \n",
              "\n",
              "                                                     tags  answer_count  \\\n",
              "0       <c#><floating-point><type-conversion><double><...            13   \n",
              "1                  <html><css><css3><internet-explorer-7>             5   \n",
              "2                                    <c#><.net><datetime>            64   \n",
              "3       <c#><datetime><time><datediff><relative-time-s...            35   \n",
              "4       <javascript><html><browser><timezone><timezone...            25   \n",
              "...                                                   ...           ...   \n",
              "676199                                   <python><import>             0   \n",
              "676200                   <java><firebase><android-studio>             0   \n",
              "676201                                                <c>             0   \n",
              "676202                         <angularjs><node.js><ajax>             1   \n",
              "676203                                        <php><html>             2   \n",
              "\n",
              "        comment_count  favorite_count     community_owned_date  \n",
              "0                   1              41  2012-10-31T16:42:47.213  \n",
              "1                   0              10                      NaN  \n",
              "2                   7             399  2011-08-16T19:40:43.080  \n",
              "3                   3             529  2009-09-04T13:15:59.820  \n",
              "4                   6             137                      NaN  \n",
              "...               ...             ...                      ...  \n",
              "676199              0               0                      NaN  \n",
              "676200              2               0                      NaN  \n",
              "676201              1               0                      NaN  \n",
              "676202              1               0                      NaN  \n",
              "676203              1               0                      NaN  \n",
              "\n",
              "[676204 rows x 14 columns]"
            ],
            "text/html": [
              "\n",
              "  <div id=\"df-314493dd-1eee-4c2e-9227-d7e531daa993\">\n",
              "    <div class=\"colab-df-container\">\n",
              "      <div>\n",
              "<style scoped>\n",
              "    .dataframe tbody tr th:only-of-type {\n",
              "        vertical-align: middle;\n",
              "    }\n",
              "\n",
              "    .dataframe tbody tr th {\n",
              "        vertical-align: top;\n",
              "    }\n",
              "\n",
              "    .dataframe thead th {\n",
              "        text-align: right;\n",
              "    }\n",
              "</style>\n",
              "<table border=\"1\" class=\"dataframe\">\n",
              "  <thead>\n",
              "    <tr style=\"text-align: right;\">\n",
              "      <th></th>\n",
              "      <th>Unnamed: 0</th>\n",
              "      <th>id</th>\n",
              "      <th>post_type_id</th>\n",
              "      <th>accepted_answer_id</th>\n",
              "      <th>parent_id</th>\n",
              "      <th>creation_date</th>\n",
              "      <th>score</th>\n",
              "      <th>view_count</th>\n",
              "      <th>owner_user_id</th>\n",
              "      <th>tags</th>\n",
              "      <th>answer_count</th>\n",
              "      <th>comment_count</th>\n",
              "      <th>favorite_count</th>\n",
              "      <th>community_owned_date</th>\n",
              "    </tr>\n",
              "  </thead>\n",
              "  <tbody>\n",
              "    <tr>\n",
              "      <th>0</th>\n",
              "      <td>0</td>\n",
              "      <td>4</td>\n",
              "      <td>1</td>\n",
              "      <td>7</td>\n",
              "      <td>-999</td>\n",
              "      <td>2008-07-31T21:42:52.667</td>\n",
              "      <td>573</td>\n",
              "      <td>37080</td>\n",
              "      <td>8</td>\n",
              "      <td>&lt;c#&gt;&lt;floating-point&gt;&lt;type-conversion&gt;&lt;double&gt;&lt;...</td>\n",
              "      <td>13</td>\n",
              "      <td>1</td>\n",
              "      <td>41</td>\n",
              "      <td>2012-10-31T16:42:47.213</td>\n",
              "    </tr>\n",
              "    <tr>\n",
              "      <th>1</th>\n",
              "      <td>1</td>\n",
              "      <td>6</td>\n",
              "      <td>1</td>\n",
              "      <td>31</td>\n",
              "      <td>-999</td>\n",
              "      <td>2008-07-31T22:08:08.620</td>\n",
              "      <td>256</td>\n",
              "      <td>16306</td>\n",
              "      <td>9</td>\n",
              "      <td>&lt;html&gt;&lt;css&gt;&lt;css3&gt;&lt;internet-explorer-7&gt;</td>\n",
              "      <td>5</td>\n",
              "      <td>0</td>\n",
              "      <td>10</td>\n",
              "      <td>NaN</td>\n",
              "    </tr>\n",
              "    <tr>\n",
              "      <th>2</th>\n",
              "      <td>2</td>\n",
              "      <td>9</td>\n",
              "      <td>1</td>\n",
              "      <td>1404</td>\n",
              "      <td>-999</td>\n",
              "      <td>2008-07-31T23:40:59.743</td>\n",
              "      <td>1743</td>\n",
              "      <td>480476</td>\n",
              "      <td>1</td>\n",
              "      <td>&lt;c#&gt;&lt;.net&gt;&lt;datetime&gt;</td>\n",
              "      <td>64</td>\n",
              "      <td>7</td>\n",
              "      <td>399</td>\n",
              "      <td>2011-08-16T19:40:43.080</td>\n",
              "    </tr>\n",
              "    <tr>\n",
              "      <th>3</th>\n",
              "      <td>3</td>\n",
              "      <td>11</td>\n",
              "      <td>1</td>\n",
              "      <td>1248</td>\n",
              "      <td>-999</td>\n",
              "      <td>2008-07-31T23:55:37.967</td>\n",
              "      <td>1348</td>\n",
              "      <td>136033</td>\n",
              "      <td>1</td>\n",
              "      <td>&lt;c#&gt;&lt;datetime&gt;&lt;time&gt;&lt;datediff&gt;&lt;relative-time-s...</td>\n",
              "      <td>35</td>\n",
              "      <td>3</td>\n",
              "      <td>529</td>\n",
              "      <td>2009-09-04T13:15:59.820</td>\n",
              "    </tr>\n",
              "    <tr>\n",
              "      <th>4</th>\n",
              "      <td>4</td>\n",
              "      <td>13</td>\n",
              "      <td>1</td>\n",
              "      <td>-999</td>\n",
              "      <td>-999</td>\n",
              "      <td>2008-08-01T00:42:38.903</td>\n",
              "      <td>539</td>\n",
              "      <td>157009</td>\n",
              "      <td>9</td>\n",
              "      <td>&lt;javascript&gt;&lt;html&gt;&lt;browser&gt;&lt;timezone&gt;&lt;timezone...</td>\n",
              "      <td>25</td>\n",
              "      <td>6</td>\n",
              "      <td>137</td>\n",
              "      <td>NaN</td>\n",
              "    </tr>\n",
              "    <tr>\n",
              "      <th>...</th>\n",
              "      <td>...</td>\n",
              "      <td>...</td>\n",
              "      <td>...</td>\n",
              "      <td>...</td>\n",
              "      <td>...</td>\n",
              "      <td>...</td>\n",
              "      <td>...</td>\n",
              "      <td>...</td>\n",
              "      <td>...</td>\n",
              "      <td>...</td>\n",
              "      <td>...</td>\n",
              "      <td>...</td>\n",
              "      <td>...</td>\n",
              "      <td>...</td>\n",
              "    </tr>\n",
              "    <tr>\n",
              "      <th>676199</th>\n",
              "      <td>676199</td>\n",
              "      <td>52133457</td>\n",
              "      <td>1</td>\n",
              "      <td>-999</td>\n",
              "      <td>-999</td>\n",
              "      <td>2018-09-02T02:10:04.210</td>\n",
              "      <td>0</td>\n",
              "      <td>14</td>\n",
              "      <td>4101319</td>\n",
              "      <td>&lt;python&gt;&lt;import&gt;</td>\n",
              "      <td>0</td>\n",
              "      <td>0</td>\n",
              "      <td>0</td>\n",
              "      <td>NaN</td>\n",
              "    </tr>\n",
              "    <tr>\n",
              "      <th>676200</th>\n",
              "      <td>676200</td>\n",
              "      <td>52133674</td>\n",
              "      <td>1</td>\n",
              "      <td>-999</td>\n",
              "      <td>-999</td>\n",
              "      <td>2018-09-02T03:08:51.103</td>\n",
              "      <td>-3</td>\n",
              "      <td>16</td>\n",
              "      <td>9815281</td>\n",
              "      <td>&lt;java&gt;&lt;firebase&gt;&lt;android-studio&gt;</td>\n",
              "      <td>0</td>\n",
              "      <td>2</td>\n",
              "      <td>0</td>\n",
              "      <td>NaN</td>\n",
              "    </tr>\n",
              "    <tr>\n",
              "      <th>676201</th>\n",
              "      <td>676201</td>\n",
              "      <td>52133700</td>\n",
              "      <td>1</td>\n",
              "      <td>-999</td>\n",
              "      <td>-999</td>\n",
              "      <td>2018-09-02T03:15:42.997</td>\n",
              "      <td>0</td>\n",
              "      <td>23</td>\n",
              "      <td>4044009</td>\n",
              "      <td>&lt;c&gt;</td>\n",
              "      <td>0</td>\n",
              "      <td>1</td>\n",
              "      <td>0</td>\n",
              "      <td>NaN</td>\n",
              "    </tr>\n",
              "    <tr>\n",
              "      <th>676202</th>\n",
              "      <td>676202</td>\n",
              "      <td>52133880</td>\n",
              "      <td>1</td>\n",
              "      <td>-999</td>\n",
              "      <td>-999</td>\n",
              "      <td>2018-09-02T04:04:31.570</td>\n",
              "      <td>0</td>\n",
              "      <td>15</td>\n",
              "      <td>10271692</td>\n",
              "      <td>&lt;angularjs&gt;&lt;node.js&gt;&lt;ajax&gt;</td>\n",
              "      <td>1</td>\n",
              "      <td>1</td>\n",
              "      <td>0</td>\n",
              "      <td>NaN</td>\n",
              "    </tr>\n",
              "    <tr>\n",
              "      <th>676203</th>\n",
              "      <td>676203</td>\n",
              "      <td>52134121</td>\n",
              "      <td>1</td>\n",
              "      <td>-999</td>\n",
              "      <td>-999</td>\n",
              "      <td>2018-09-02T05:02:16.480</td>\n",
              "      <td>0</td>\n",
              "      <td>12</td>\n",
              "      <td>10049938</td>\n",
              "      <td>&lt;php&gt;&lt;html&gt;</td>\n",
              "      <td>2</td>\n",
              "      <td>1</td>\n",
              "      <td>0</td>\n",
              "      <td>NaN</td>\n",
              "    </tr>\n",
              "  </tbody>\n",
              "</table>\n",
              "<p>676204 rows × 14 columns</p>\n",
              "</div>\n",
              "      <button class=\"colab-df-convert\" onclick=\"convertToInteractive('df-314493dd-1eee-4c2e-9227-d7e531daa993')\"\n",
              "              title=\"Convert this dataframe to an interactive table.\"\n",
              "              style=\"display:none;\">\n",
              "        \n",
              "  <svg xmlns=\"http://www.w3.org/2000/svg\" height=\"24px\"viewBox=\"0 0 24 24\"\n",
              "       width=\"24px\">\n",
              "    <path d=\"M0 0h24v24H0V0z\" fill=\"none\"/>\n",
              "    <path d=\"M18.56 5.44l.94 2.06.94-2.06 2.06-.94-2.06-.94-.94-2.06-.94 2.06-2.06.94zm-11 1L8.5 8.5l.94-2.06 2.06-.94-2.06-.94L8.5 2.5l-.94 2.06-2.06.94zm10 10l.94 2.06.94-2.06 2.06-.94-2.06-.94-.94-2.06-.94 2.06-2.06.94z\"/><path d=\"M17.41 7.96l-1.37-1.37c-.4-.4-.92-.59-1.43-.59-.52 0-1.04.2-1.43.59L10.3 9.45l-7.72 7.72c-.78.78-.78 2.05 0 2.83L4 21.41c.39.39.9.59 1.41.59.51 0 1.02-.2 1.41-.59l7.78-7.78 2.81-2.81c.8-.78.8-2.07 0-2.86zM5.41 20L4 18.59l7.72-7.72 1.47 1.35L5.41 20z\"/>\n",
              "  </svg>\n",
              "      </button>\n",
              "      \n",
              "  <style>\n",
              "    .colab-df-container {\n",
              "      display:flex;\n",
              "      flex-wrap:wrap;\n",
              "      gap: 12px;\n",
              "    }\n",
              "\n",
              "    .colab-df-convert {\n",
              "      background-color: #E8F0FE;\n",
              "      border: none;\n",
              "      border-radius: 50%;\n",
              "      cursor: pointer;\n",
              "      display: none;\n",
              "      fill: #1967D2;\n",
              "      height: 32px;\n",
              "      padding: 0 0 0 0;\n",
              "      width: 32px;\n",
              "    }\n",
              "\n",
              "    .colab-df-convert:hover {\n",
              "      background-color: #E2EBFA;\n",
              "      box-shadow: 0px 1px 2px rgba(60, 64, 67, 0.3), 0px 1px 3px 1px rgba(60, 64, 67, 0.15);\n",
              "      fill: #174EA6;\n",
              "    }\n",
              "\n",
              "    [theme=dark] .colab-df-convert {\n",
              "      background-color: #3B4455;\n",
              "      fill: #D2E3FC;\n",
              "    }\n",
              "\n",
              "    [theme=dark] .colab-df-convert:hover {\n",
              "      background-color: #434B5C;\n",
              "      box-shadow: 0px 1px 3px 1px rgba(0, 0, 0, 0.15);\n",
              "      filter: drop-shadow(0px 1px 2px rgba(0, 0, 0, 0.3));\n",
              "      fill: #FFFFFF;\n",
              "    }\n",
              "  </style>\n",
              "\n",
              "      <script>\n",
              "        const buttonEl =\n",
              "          document.querySelector('#df-314493dd-1eee-4c2e-9227-d7e531daa993 button.colab-df-convert');\n",
              "        buttonEl.style.display =\n",
              "          google.colab.kernel.accessAllowed ? 'block' : 'none';\n",
              "\n",
              "        async function convertToInteractive(key) {\n",
              "          const element = document.querySelector('#df-314493dd-1eee-4c2e-9227-d7e531daa993');\n",
              "          const dataTable =\n",
              "            await google.colab.kernel.invokeFunction('convertToInteractive',\n",
              "                                                     [key], {});\n",
              "          if (!dataTable) return;\n",
              "\n",
              "          const docLinkHtml = 'Like what you see? Visit the ' +\n",
              "            '<a target=\"_blank\" href=https://colab.research.google.com/notebooks/data_table.ipynb>data table notebook</a>'\n",
              "            + ' to learn more about interactive tables.';\n",
              "          element.innerHTML = '';\n",
              "          dataTable['output_type'] = 'display_data';\n",
              "          await google.colab.output.renderOutput(dataTable, element);\n",
              "          const docLink = document.createElement('div');\n",
              "          docLink.innerHTML = docLinkHtml;\n",
              "          element.appendChild(docLink);\n",
              "        }\n",
              "      </script>\n",
              "    </div>\n",
              "  </div>\n",
              "  "
            ]
          },
          "metadata": {},
          "execution_count": 130
        }
      ]
    },
    {
      "cell_type": "code",
      "source": [
        "l = []\n",
        "for k in range(len(df3)):\n",
        "  if(df3['post_type_id'][k] == 3):\n",
        "    l.append(df1['date_time'][k])"
      ],
      "metadata": {
        "id": "3vUK0w8-NDcq"
      },
      "execution_count": null,
      "outputs": []
    }
  ]
}